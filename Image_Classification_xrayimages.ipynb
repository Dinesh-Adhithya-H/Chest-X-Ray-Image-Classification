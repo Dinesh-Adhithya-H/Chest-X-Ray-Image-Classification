{
  "nbformat": 4,
  "nbformat_minor": 0,
  "metadata": {
    "colab": {
      "name": "Image_Classification_xrayimages.ipynb",
      "provenance": []
    },
    "kernelspec": {
      "name": "python3",
      "display_name": "Python 3"
    },
    "accelerator": "TPU"
  },
  "cells": [
    {
      "cell_type": "code",
      "metadata": {
        "id": "SoYzcQ7n1LSL"
      },
      "source": [
        "import seaborn as sns\r\n",
        "import numpy as np\r\n",
        "import tensorflow as tf\r\n",
        "import matplotlib.pyplot as plt\r\n",
        "from tensorflow.keras.preprocessing.image import ImageDataGenerator\r\n",
        "from tensorflow.keras.applications.vgg16 import VGG16\r\n",
        "from tensorflow.keras import applications\r\n",
        "from tensorflow.keras import optimizers\r\n",
        "from tensorflow.keras.models import Model, Sequential\r\n",
        "from tensorflow.keras.layers import Dense, Flatten, Dropout, BatchNormalization\r\n",
        "from tensorflow import keras"
      ],
      "execution_count": 1,
      "outputs": []
    },
    {
      "cell_type": "code",
      "metadata": {
        "colab": {
          "base_uri": "https://localhost:8080/"
        },
        "id": "q_TkSpdO2Eij",
        "outputId": "39b0c3f4-c41e-412e-cc74-11ea449f99ef"
      },
      "source": [
        "from google.colab import drive\r\n",
        "drive.mount('/content/drive')"
      ],
      "execution_count": 2,
      "outputs": [
        {
          "output_type": "stream",
          "text": [
            "Drive already mounted at /content/drive; to attempt to forcibly remount, call drive.mount(\"/content/drive\", force_remount=True).\n"
          ],
          "name": "stdout"
        }
      ]
    },
    {
      "cell_type": "code",
      "metadata": {
        "id": "ph7o7Nzg2rRy"
      },
      "source": [
        "train_data_dir = \"/content/drive/My Drive/chest_xray/train\"\r\n",
        "test_data_dir = \"/content/drive/My Drive/chest_xray/test\"\r\n",
        "val_data_dir = \"/content/drive/My Drive/chest_xray/val\""
      ],
      "execution_count": 3,
      "outputs": []
    },
    {
      "cell_type": "code",
      "metadata": {
        "id": "hGhzy1Or240z"
      },
      "source": [
        "train_datagen = ImageDataGenerator(\r\n",
        "    rescale= 1./255,\r\n",
        "    shear_range= 0.2,\r\n",
        "    zoom_range= 0.2,\r\n",
        "    horizontal_flip= True,\r\n",
        "    rotation_range= 20,\r\n",
        "    width_shift_range= 0.2,\r\n",
        "    height_shift_range= 0.2,\r\n",
        ")\r\n",
        "\r\n",
        "datagen = ImageDataGenerator(rescale= 1./255)"
      ],
      "execution_count": 4,
      "outputs": []
    },
    {
      "cell_type": "code",
      "metadata": {
        "colab": {
          "base_uri": "https://localhost:8080/"
        },
        "id": "nE_dappd2__c",
        "outputId": "7788f2d1-d75e-44b7-9044-15708c29b4b9"
      },
      "source": [
        "train_generator = train_datagen.flow_from_directory(  \r\n",
        "    train_data_dir,  \r\n",
        "    target_size= (64,64), \r\n",
        "    color_mode= 'rgb',\r\n",
        "    batch_size= 64,  \r\n",
        "    class_mode= 'categorical',\r\n",
        "    shuffle= True, \r\n",
        "    seed= 42\r\n",
        ") "
      ],
      "execution_count": 5,
      "outputs": [
        {
          "output_type": "stream",
          "text": [
            "Found 2256 images belonging to 2 classes.\n"
          ],
          "name": "stdout"
        }
      ]
    },
    {
      "cell_type": "code",
      "metadata": {
        "id": "8wq9kVR13z_U"
      },
      "source": [
        "img_width=64\r\n",
        "img_height=64"
      ],
      "execution_count": 6,
      "outputs": []
    },
    {
      "cell_type": "code",
      "metadata": {
        "colab": {
          "base_uri": "https://localhost:8080/"
        },
        "id": "FbSXJiC03M6J",
        "outputId": "50d55c47-becc-4a53-a741-8fe665817c00"
      },
      "source": [
        "test_generator = datagen.flow_from_directory(\r\n",
        "    val_data_dir,\r\n",
        "    target_size= (img_width, img_height),\r\n",
        "    color_mode= 'rgb', \r\n",
        "    class_mode= 'categorical', \r\n",
        "    batch_size= 64, \r\n",
        "    shuffle= True\r\n",
        ")"
      ],
      "execution_count": 7,
      "outputs": [
        {
          "output_type": "stream",
          "text": [
            "Found 16 images belonging to 2 classes.\n"
          ],
          "name": "stdout"
        }
      ]
    },
    {
      "cell_type": "code",
      "metadata": {
        "colab": {
          "base_uri": "https://localhost:8080/"
        },
        "id": "uURlnuKu5cJT",
        "outputId": "06385904-54a4-4871-85bd-3e2a6edcec0e"
      },
      "source": [
        "vgg16 = applications.VGG16(include_top= False, input_shape= (img_width, img_height,3), weights= 'imagenet')\r\n",
        "vgg16.summary()"
      ],
      "execution_count": 8,
      "outputs": [
        {
          "output_type": "stream",
          "text": [
            "Downloading data from https://storage.googleapis.com/tensorflow/keras-applications/vgg16/vgg16_weights_tf_dim_ordering_tf_kernels_notop.h5\n",
            "58892288/58889256 [==============================] - 1s 0us/step\n",
            "Model: \"vgg16\"\n",
            "_________________________________________________________________\n",
            "Layer (type)                 Output Shape              Param #   \n",
            "=================================================================\n",
            "input_1 (InputLayer)         [(None, 64, 64, 3)]       0         \n",
            "_________________________________________________________________\n",
            "block1_conv1 (Conv2D)        (None, 64, 64, 64)        1792      \n",
            "_________________________________________________________________\n",
            "block1_conv2 (Conv2D)        (None, 64, 64, 64)        36928     \n",
            "_________________________________________________________________\n",
            "block1_pool (MaxPooling2D)   (None, 32, 32, 64)        0         \n",
            "_________________________________________________________________\n",
            "block2_conv1 (Conv2D)        (None, 32, 32, 128)       73856     \n",
            "_________________________________________________________________\n",
            "block2_conv2 (Conv2D)        (None, 32, 32, 128)       147584    \n",
            "_________________________________________________________________\n",
            "block2_pool (MaxPooling2D)   (None, 16, 16, 128)       0         \n",
            "_________________________________________________________________\n",
            "block3_conv1 (Conv2D)        (None, 16, 16, 256)       295168    \n",
            "_________________________________________________________________\n",
            "block3_conv2 (Conv2D)        (None, 16, 16, 256)       590080    \n",
            "_________________________________________________________________\n",
            "block3_conv3 (Conv2D)        (None, 16, 16, 256)       590080    \n",
            "_________________________________________________________________\n",
            "block3_pool (MaxPooling2D)   (None, 8, 8, 256)         0         \n",
            "_________________________________________________________________\n",
            "block4_conv1 (Conv2D)        (None, 8, 8, 512)         1180160   \n",
            "_________________________________________________________________\n",
            "block4_conv2 (Conv2D)        (None, 8, 8, 512)         2359808   \n",
            "_________________________________________________________________\n",
            "block4_conv3 (Conv2D)        (None, 8, 8, 512)         2359808   \n",
            "_________________________________________________________________\n",
            "block4_pool (MaxPooling2D)   (None, 4, 4, 512)         0         \n",
            "_________________________________________________________________\n",
            "block5_conv1 (Conv2D)        (None, 4, 4, 512)         2359808   \n",
            "_________________________________________________________________\n",
            "block5_conv2 (Conv2D)        (None, 4, 4, 512)         2359808   \n",
            "_________________________________________________________________\n",
            "block5_conv3 (Conv2D)        (None, 4, 4, 512)         2359808   \n",
            "_________________________________________________________________\n",
            "block5_pool (MaxPooling2D)   (None, 2, 2, 512)         0         \n",
            "=================================================================\n",
            "Total params: 14,714,688\n",
            "Trainable params: 14,714,688\n",
            "Non-trainable params: 0\n",
            "_________________________________________________________________\n"
          ],
          "name": "stdout"
        }
      ]
    },
    {
      "cell_type": "code",
      "metadata": {
        "colab": {
          "base_uri": "https://localhost:8080/"
        },
        "id": "EFwbnpuY7ZUm",
        "outputId": "770c7d38-bbd6-4f12-dc5d-385903e8c3d2"
      },
      "source": [
        "model = Sequential()\r\n",
        "\r\n",
        "for layer in vgg16.layers:\r\n",
        "    model.add(layer)\r\n",
        "\r\n",
        "for layer in model.layers:\r\n",
        "    layer.trainable= False\r\n",
        "\r\n",
        "model.add(Flatten(input_shape= (2, 2, 512)))\r\n",
        "\r\n",
        "model.add(Dense(512, activation= 'relu', name= 'FC1'))\r\n",
        "model.add(BatchNormalization())\r\n",
        "model.add(Dropout(0.4))\r\n",
        "\r\n",
        "model.add(Dense(512, activation= 'relu', name= 'FC2'))\r\n",
        "model.add(BatchNormalization())\r\n",
        "model.add(Dropout(0.4))\r\n",
        "\r\n",
        "model.add(Dense(2, activation= 'softmax', name= 'FC3'))\r\n",
        "\r\n",
        "model.summary()"
      ],
      "execution_count": 9,
      "outputs": [
        {
          "output_type": "stream",
          "text": [
            "Model: \"sequential\"\n",
            "_________________________________________________________________\n",
            "Layer (type)                 Output Shape              Param #   \n",
            "=================================================================\n",
            "block1_conv1 (Conv2D)        (None, 64, 64, 64)        1792      \n",
            "_________________________________________________________________\n",
            "block1_conv2 (Conv2D)        (None, 64, 64, 64)        36928     \n",
            "_________________________________________________________________\n",
            "block1_pool (MaxPooling2D)   (None, 32, 32, 64)        0         \n",
            "_________________________________________________________________\n",
            "block2_conv1 (Conv2D)        (None, 32, 32, 128)       73856     \n",
            "_________________________________________________________________\n",
            "block2_conv2 (Conv2D)        (None, 32, 32, 128)       147584    \n",
            "_________________________________________________________________\n",
            "block2_pool (MaxPooling2D)   (None, 16, 16, 128)       0         \n",
            "_________________________________________________________________\n",
            "block3_conv1 (Conv2D)        (None, 16, 16, 256)       295168    \n",
            "_________________________________________________________________\n",
            "block3_conv2 (Conv2D)        (None, 16, 16, 256)       590080    \n",
            "_________________________________________________________________\n",
            "block3_conv3 (Conv2D)        (None, 16, 16, 256)       590080    \n",
            "_________________________________________________________________\n",
            "block3_pool (MaxPooling2D)   (None, 8, 8, 256)         0         \n",
            "_________________________________________________________________\n",
            "block4_conv1 (Conv2D)        (None, 8, 8, 512)         1180160   \n",
            "_________________________________________________________________\n",
            "block4_conv2 (Conv2D)        (None, 8, 8, 512)         2359808   \n",
            "_________________________________________________________________\n",
            "block4_conv3 (Conv2D)        (None, 8, 8, 512)         2359808   \n",
            "_________________________________________________________________\n",
            "block4_pool (MaxPooling2D)   (None, 4, 4, 512)         0         \n",
            "_________________________________________________________________\n",
            "block5_conv1 (Conv2D)        (None, 4, 4, 512)         2359808   \n",
            "_________________________________________________________________\n",
            "block5_conv2 (Conv2D)        (None, 4, 4, 512)         2359808   \n",
            "_________________________________________________________________\n",
            "block5_conv3 (Conv2D)        (None, 4, 4, 512)         2359808   \n",
            "_________________________________________________________________\n",
            "block5_pool (MaxPooling2D)   (None, 2, 2, 512)         0         \n",
            "_________________________________________________________________\n",
            "flatten (Flatten)            (None, 2048)              0         \n",
            "_________________________________________________________________\n",
            "FC1 (Dense)                  (None, 512)               1049088   \n",
            "_________________________________________________________________\n",
            "batch_normalization (BatchNo (None, 512)               2048      \n",
            "_________________________________________________________________\n",
            "dropout (Dropout)            (None, 512)               0         \n",
            "_________________________________________________________________\n",
            "FC2 (Dense)                  (None, 512)               262656    \n",
            "_________________________________________________________________\n",
            "batch_normalization_1 (Batch (None, 512)               2048      \n",
            "_________________________________________________________________\n",
            "dropout_1 (Dropout)          (None, 512)               0         \n",
            "_________________________________________________________________\n",
            "FC3 (Dense)                  (None, 2)                 1026      \n",
            "=================================================================\n",
            "Total params: 16,031,554\n",
            "Trainable params: 1,314,818\n",
            "Non-trainable params: 14,716,736\n",
            "_________________________________________________________________\n"
          ],
          "name": "stdout"
        }
      ]
    },
    {
      "cell_type": "code",
      "metadata": {
        "id": "xZzdWrH17yTL"
      },
      "source": [
        "model.compile(optimizer= keras.optimizers.Adam(), loss= 'categorical_crossentropy', metrics= ['accuracy'])"
      ],
      "execution_count": 10,
      "outputs": []
    },
    {
      "cell_type": "code",
      "metadata": {
        "colab": {
          "base_uri": "https://localhost:8080/"
        },
        "id": "CXk0EUeT8NV_",
        "outputId": "bec2b8ea-0ff5-4a48-d163-e90c2fec6279"
      },
      "source": [
        "history = model.fit(\r\n",
        "    train_generator, \r\n",
        "    epochs= 10,\r\n",
        "    validation_data = test_generator, \r\n",
        "    verbose = 2, \r\n",
        "    shuffle = True\r\n",
        ")"
      ],
      "execution_count": 13,
      "outputs": [
        {
          "output_type": "stream",
          "text": [
            "Epoch 1/10\n",
            "36/36 - 341s - loss: 0.9622 - accuracy: 0.5740 - val_loss: 0.6354 - val_accuracy: 0.6250\n",
            "Epoch 2/10\n",
            "36/36 - 118s - loss: 0.8962 - accuracy: 0.6011 - val_loss: 0.6276 - val_accuracy: 0.6250\n",
            "Epoch 3/10\n",
            "36/36 - 118s - loss: 0.7884 - accuracy: 0.6272 - val_loss: 0.6068 - val_accuracy: 0.6250\n",
            "Epoch 4/10\n",
            "36/36 - 117s - loss: 0.7359 - accuracy: 0.6494 - val_loss: 0.6007 - val_accuracy: 0.5625\n",
            "Epoch 5/10\n",
            "36/36 - 115s - loss: 0.6983 - accuracy: 0.6729 - val_loss: 0.5715 - val_accuracy: 0.6875\n",
            "Epoch 6/10\n",
            "36/36 - 114s - loss: 0.6282 - accuracy: 0.7119 - val_loss: 0.5772 - val_accuracy: 0.6875\n",
            "Epoch 7/10\n",
            "36/36 - 114s - loss: 0.6174 - accuracy: 0.7261 - val_loss: 0.6061 - val_accuracy: 0.5625\n",
            "Epoch 8/10\n",
            "36/36 - 116s - loss: 0.5759 - accuracy: 0.7238 - val_loss: 0.5812 - val_accuracy: 0.5625\n",
            "Epoch 9/10\n",
            "36/36 - 116s - loss: 0.4975 - accuracy: 0.7748 - val_loss: 0.6423 - val_accuracy: 0.5625\n",
            "Epoch 10/10\n",
            "36/36 - 115s - loss: 0.4683 - accuracy: 0.7921 - val_loss: 0.6546 - val_accuracy: 0.6250\n"
          ],
          "name": "stdout"
        }
      ]
    },
    {
      "cell_type": "code",
      "metadata": {
        "colab": {
          "base_uri": "https://localhost:8080/",
          "height": 280
        },
        "id": "nGB9_Elh8cfH",
        "outputId": "41ca2920-39cd-4457-f2fb-0138eb3a6268"
      },
      "source": [
        "plt.plot(history.history['accuracy'])\r\n",
        "plt.plot(history.history['val_accuracy'])\r\n",
        "plt.ylabel('Accuracy')\r\n",
        "plt.xlabel('Epoch')\r\n",
        "plt.legend(['Training Accuracy','Validation Accuracy'])\r\n",
        "plt.show()"
      ],
      "execution_count": 14,
      "outputs": [
        {
          "output_type": "display_data",
          "data": {
            "image/png": "[encoded data removed]",
            "text/plain": [
              "<Figure size 432x288 with 1 Axes>"
            ]
          },
          "metadata": {
            "tags": [],
            "needs_background": "light"
          }
        }
      ]
    },
    {
      "cell_type": "code",
      "metadata": {
        "colab": {
          "base_uri": "https://localhost:8080/"
        },
        "id": "_MF-V8XIFaZf",
        "outputId": "0e90eb87-97f9-408e-903f-ed51597d6171"
      },
      "source": [
        "!mkdir -p saved_model\r\n",
        "model.save('/my_model')"
      ],
      "execution_count": 17,
      "outputs": [
        {
          "output_type": "stream",
          "text": [
            "INFO:tensorflow:Assets written to: /my_model/assets\n"
          ],
          "name": "stdout"
        }
      ]
    },
    {
      "cell_type": "code",
      "metadata": {
        "id": "cNJWI9XoFvT3"
      },
      "source": [
        ""
      ],
      "execution_count": null,
      "outputs": []
    }
  ]
}